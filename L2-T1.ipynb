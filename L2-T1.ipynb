{
 "cells": [
  {
   "cell_type": "code",
   "execution_count": 1,
   "id": "2e49e1e1-2572-49fa-86f7-3eda44f36261",
   "metadata": {},
   "outputs": [],
   "source": [
    "import pandas as pd\n",
    "import matplotlib.pyplot as plt"
   ]
  },
  {
   "cell_type": "code",
   "execution_count": 4,
   "id": "83875ecd-59f5-464b-bada-4b5e7c3738b3",
   "metadata": {},
   "outputs": [
    {
     "name": "stdout",
     "output_type": "stream",
     "text": [
      "   Restaurant ID         Restaurant Name  Country Code              City  \\\n",
      "0        6317637        Le Petit Souffle           162       Makati City   \n",
      "1        6304287        Izakaya Kikufuji           162       Makati City   \n",
      "2        6300002  Heat - Edsa Shangri-La           162  Mandaluyong City   \n",
      "3        6318506                    Ooma           162  Mandaluyong City   \n",
      "4        6314302             Sambo Kojin           162  Mandaluyong City   \n",
      "\n",
      "                                             Address  \\\n",
      "0  Third Floor, Century City Mall, Kalayaan Avenu...   \n",
      "1  Little Tokyo, 2277 Chino Roces Avenue, Legaspi...   \n",
      "2  Edsa Shangri-La, 1 Garden Way, Ortigas, Mandal...   \n",
      "3  Third Floor, Mega Fashion Hall, SM Megamall, O...   \n",
      "4  Third Floor, Mega Atrium, SM Megamall, Ortigas...   \n",
      "\n",
      "                                     Locality  \\\n",
      "0   Century City Mall, Poblacion, Makati City   \n",
      "1  Little Tokyo, Legaspi Village, Makati City   \n",
      "2  Edsa Shangri-La, Ortigas, Mandaluyong City   \n",
      "3      SM Megamall, Ortigas, Mandaluyong City   \n",
      "4      SM Megamall, Ortigas, Mandaluyong City   \n",
      "\n",
      "                                    Locality Verbose   Longitude   Latitude  \\\n",
      "0  Century City Mall, Poblacion, Makati City, Mak...  121.027535  14.565443   \n",
      "1  Little Tokyo, Legaspi Village, Makati City, Ma...  121.014101  14.553708   \n",
      "2  Edsa Shangri-La, Ortigas, Mandaluyong City, Ma...  121.056831  14.581404   \n",
      "3  SM Megamall, Ortigas, Mandaluyong City, Mandal...  121.056475  14.585318   \n",
      "4  SM Megamall, Ortigas, Mandaluyong City, Mandal...  121.057508  14.584450   \n",
      "\n",
      "                           Cuisines  ...          Currency Has Table booking  \\\n",
      "0        French, Japanese, Desserts  ...  Botswana Pula(P)               Yes   \n",
      "1                          Japanese  ...  Botswana Pula(P)               Yes   \n",
      "2  Seafood, Asian, Filipino, Indian  ...  Botswana Pula(P)               Yes   \n",
      "3                   Japanese, Sushi  ...  Botswana Pula(P)                No   \n",
      "4                  Japanese, Korean  ...  Botswana Pula(P)               Yes   \n",
      "\n",
      "  Has Online delivery Is delivering now Switch to order menu Price range  \\\n",
      "0                  No                No                   No           3   \n",
      "1                  No                No                   No           3   \n",
      "2                  No                No                   No           4   \n",
      "3                  No                No                   No           4   \n",
      "4                  No                No                   No           4   \n",
      "\n",
      "   Aggregate rating  Rating color Rating text Votes  \n",
      "0               4.8    Dark Green   Excellent   314  \n",
      "1               4.5    Dark Green   Excellent   591  \n",
      "2               4.4         Green   Very Good   270  \n",
      "3               4.9    Dark Green   Excellent   365  \n",
      "4               4.8    Dark Green   Excellent   229  \n",
      "\n",
      "[5 rows x 21 columns]\n"
     ]
    }
   ],
   "source": [
    "dataset=pd.read_csv(\"Dataset.csv\")\n",
    "print(dataset.head())"
   ]
  },
  {
   "cell_type": "code",
   "execution_count": 5,
   "id": "1ccb6b3b-a60e-4735-a5d1-850169eae880",
   "metadata": {},
   "outputs": [],
   "source": [
    "aggregating_rating=dataset['Aggregate rating']\n",
    "rating_counts=aggregating_rating.value_counts().sort_index()"
   ]
  },
  {
   "cell_type": "code",
   "execution_count": 7,
   "id": "237b2336-fc84-4ed3-a11c-e28e9edc817c",
   "metadata": {},
   "outputs": [
    {
     "name": "stdout",
     "output_type": "stream",
     "text": [
      "Most common rating range: 0.0\n"
     ]
    }
   ],
   "source": [
    "most_common_rating_range=rating_counts.idxmax()\n",
    "print(\"Most common rating range:\",most_common_rating_range)"
   ]
  },
  {
   "cell_type": "code",
   "execution_count": 8,
   "id": "53f24c52-cd9b-4e5e-9907-0cf21b96d73f",
   "metadata": {},
   "outputs": [
    {
     "name": "stdout",
     "output_type": "stream",
     "text": [
      "Average number of votes received by restaurants: 156.909747670401\n"
     ]
    }
   ],
   "source": [
    "average_votes=dataset['Votes'].mean()\n",
    "print(\"Average number of votes received by restaurants:\",average_votes)"
   ]
  },
  {
   "cell_type": "code",
   "execution_count": 11,
   "id": "2ed3e701-2e9b-4574-8eab-fab11fc50444",
   "metadata": {},
   "outputs": [
    {
     "data": {
      "image/png": "[encoded data removed]",
      "text/plain": [
       "<Figure size 640x480 with 1 Axes>"
      ]
     },
     "metadata": {},
     "output_type": "display_data"
    }
   ],
   "source": [
    "plt.hist(aggregating_rating,bins=20,edgecolor='black')\n",
    "plt.xlabel('Aggregate Rating')\n",
    "plt.ylabel('Frequency')\n",
    "plt.title('Distribution of Aggregate ratings')\n",
    "plt.show()"
   ]
  },
  {
   "cell_type": "code",
   "execution_count": null,
   "id": "bc35172d-407b-4452-911c-3ee9c533fa00",
   "metadata": {},
   "outputs": [],
   "source": []
  }
 ],
 "metadata": {
  "kernelspec": {
   "display_name": "Python 3 (ipykernel)",
   "language": "python",
   "name": "python3"
  },
  "language_info": {
   "codemirror_mode": {
    "name": "ipython",
    "version": 3
   },
   "file_extension": ".py",
   "mimetype": "text/x-python",
   "name": "python",
   "nbconvert_exporter": "python",
   "pygments_lexer": "ipython3",
   "version": "3.12.4"
  }
 },
 "nbformat": 4,
 "nbformat_minor": 5
}
